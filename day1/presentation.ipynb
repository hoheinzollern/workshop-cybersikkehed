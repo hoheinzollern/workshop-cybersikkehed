{
 "metadata": {
  "language_info": {
   "codemirror_mode": {
    "name": "ipython",
    "version": 3
   },
   "file_extension": ".py",
   "mimetype": "text/x-python",
   "name": "python",
   "nbconvert_exporter": "python",
   "pygments_lexer": "ipython3",
   "version": "3.9.2-final"
  },
  "orig_nbformat": 2,
  "kernelspec": {
   "name": "python3",
   "display_name": "Python 3.9.2 64-bit",
   "metadata": {
    "interpreter": {
     "hash": "767d51c1340bd893661ea55ea3124f6de3c7a262a8b4abca0554b478b1e2ff90"
    }
   }
  }
 },
 "nbformat": 4,
 "nbformat_minor": 2,
 "cells": [
  {
   "source": [
    "# National cybersikkehed træningsdage\n",
    "# Exploitation 1: Programs as data\n",
    "## Alessandro Bruni\n",
    "## Sebastian Kjærsgaard Olsen, Kristoffer Westi Astrup, Magnus Ulrich Hermansen, Emilie Haase, Jacob Buchholz Bech\n"
   ],
   "cell_type": "markdown",
   "metadata": {}
  },
  {
   "source": [
    "0. What is exploitation \n",
    "\n",
    "Short intro \n",
    "\n",
    "1. Hexadecimal - Magnus \n",
    "\n",
    "Intro to hex, binary and ASCII representations \n",
    "\n",
    "TODO: make 10 examples of conversion between values (ints, strings, hex, bin etc) \n",
    "\n",
    "2. C programs - Emilie \n",
    "\n",
    "Intro to compilation (src -> obj) \n",
    "\n",
    "Conditionals: If (b) {…} else {…} \n",
    "\n",
    "Loops: While (b) {…} and For (,…) {…} \n",
    "\n",
    "Functions: int f(…) { … g(…) …} \n",
    "\n",
    "TODO: simple examples of programs that use conditionals, loops and functions \n",
    "\n",
    "3. HW - Jacob \n",
    "\n",
    "Intro to how the CPU works, registers, stack and RAM \n",
    "\n",
    "Types of operations, load, store, math and logic. RISC vs CISC (some archs conflate load/store) \n",
    "\n",
    "TODO: step through the programs of point 2 \n",
    "\n",
    "4. ISA - Sebastian \n",
    "\n",
    "ARM/x86 \n",
    "\n",
    "TODO: link to nice instruction set resources/cheatsheets \n",
    "\n",
    "Ex: select few instructions, read up and explain what they do \n",
    "\n",
    "Exercise examples: https://github.com/xorpd/asm_prog_ex/blob/master/2_x86_architecture/2_first_instructions/ex/ex_first_instructions.txt \n",
    "\n",
    "5. Program graphs and program representations - Kristoffer \n",
    "\n",
    "Cutter! Look at program graphs from 2. or 3. \n",
    "\n",
    "What does this binary do? Provide simple binaries; \n",
    "\n",
    "Double function (only main) \n",
    "\n",
    "Pincode / password prompt (stdin perhaps?) \n",
    "\n",
    "Fibonacci (iteratively)  \n",
    "\n",
    "6. Reverse engineering PRO - ?? Free for all ?? \n",
    "\n",
    "Simple RE exercises: \n",
    "\n",
    "Find the password string (then have the string be data in the binary => visible in cutter) "
   ],
   "cell_type": "markdown",
   "metadata": {}
  },
  {
   "cell_type": "code",
   "execution_count": null,
   "metadata": {},
   "outputs": [],
   "source": []
  }
 ]
}