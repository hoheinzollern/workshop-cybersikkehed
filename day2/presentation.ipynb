{
 "cells": [
  {
   "cell_type": "markdown",
   "metadata": {
    "slideshow": {
     "slide_type": "slide"
    }
   },
   "source": [
    "# National cybersikkehed træningsdage\n",
    "# Exploitation 2: Basic exploitation techniques\n",
    "## Alessandro Bruni, Sebastian Kjærsgaard Olsen, Kristoffer Westi Astrup, Emilie Baarts Haase, Jacob Buchholz Bech"
   ]
  },
  {
   "cell_type": "markdown",
   "metadata": {
    "slideshow": {
     "slide_type": "slide"
    }
   },
   "source": [
    "# Plan for today\n",
    "\n",
    "1. browse around with cutter no exercises 20 minutes\n",
    "2. run programs under a debugger with simple vulnerable program (15+25)\n",
    "    - show endianness of x86\n",
    "    - integer underflow, add 1 to 0xfff\n",
    "    - 1 presentation 1 exercise 1 pro exercise\n",
    "3. how the stack works and buffer overflows (15+25)\n",
    "    - 1 check if not zero (presentation + variation 1)\n",
    "    - check for a specific value (endianness) (variation 2)\n",
    "    - overwrite the instruction pointer (pro)\n",
    "- 2 hours (with break)\n",
    "4. shell codes 40\n",
    "    - disable ASLR\n",
    "5. defeat ASLR 40\n",
    "    - printf(stack location)\n",
    "    - show where to get shellcodes\n",
    "    - \n",
    "6. Advanced: stack canaries, ROP, PIE, read only relocations 40\n",
    "\n",
    "stack canaries always have a null byte keep that in mind\n",
    "    - presentation and a few examples,\n",
    "    - take home exercises"
   ]
  },
  {
   "attachments": {
    "image.png": {
     "image/png": "[encoded data removed]"
    }
   },
   "cell_type": "markdown",
   "metadata": {
    "slideshow": {
     "slide_type": "slide"
    }
   },
   "source": [
    "# Survey\n",
    "\n",
    "How did today go? Let us know!\n",
    "\n",
    "https://www.survey-xact.dk/LinkCollector?key=FZKJ1GHKSNCN\n",
    "\n",
    "![image.png](attachment:image.png)"
   ]
  }
 ],
 "metadata": {
  "celltoolbar": "Slideshow",
  "kernelspec": {
   "display_name": "Python 3",
   "language": "python",
   "name": "python3"
  },
  "language_info": {
   "codemirror_mode": {
    "name": "ipython",
    "version": 3
   },
   "file_extension": ".py",
   "mimetype": "text/x-python",
   "name": "python",
   "nbconvert_exporter": "python",
   "pygments_lexer": "ipython3",
   "version": "3.9.2"
  }
 },
 "nbformat": 4,
 "nbformat_minor": 2
}
