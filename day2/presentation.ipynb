{
 "metadata": {
  "language_info": {
   "codemirror_mode": {
    "name": "ipython",
    "version": 3
   },
   "file_extension": ".py",
   "mimetype": "text/x-python",
   "name": "python",
   "nbconvert_exporter": "python",
   "pygments_lexer": "ipython3",
   "version": "3.9.2-final"
  },
  "orig_nbformat": 2,
  "kernelspec": {
   "name": "python3",
   "display_name": "Python 3",
   "language": "python"
  }
 },
 "nbformat": 4,
 "nbformat_minor": 2,
 "cells": [
  {
   "source": [
    "# National cybersikkehed træningsdage\n",
    "# Exploitation 2: Basic exploitation techniques\n",
    "## Alessandro Bruni\n",
    "## Sebastian Kjærsgaard Olsen, Kristoffer Westi Astrup, Magnus Ulrich Hermansen, Emilie Haase, Jacob Buchholz Bech"
   ],
   "cell_type": "markdown",
   "metadata": {}
  },
  {
   "source": [
    "- understanding control flow (trick programs into reaching certain states)\n",
    "- how the stack works and buffer overflows\n",
    "- exploitation techniques (shellcodes nopsleds etc)\n",
    "- advanced: ROP"
   ],
   "cell_type": "markdown",
   "metadata": {}
  }
 ]
}